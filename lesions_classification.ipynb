{
  "nbformat": 4,
  "nbformat_minor": 0,
  "metadata": {
    "colab": {
      "name": "lesions_classification.ipynb",
      "version": "0.3.2",
      "provenance": [],
      "include_colab_link": true
    },
    "language_info": {
      "codemirror_mode": {
        "name": "ipython",
        "version": 3
      },
      "file_extension": ".py",
      "mimetype": "text/x-python",
      "name": "python",
      "nbconvert_exporter": "python",
      "pygments_lexer": "ipython3",
      "version": "3.6.5"
    },
    "kernelspec": {
      "display_name": "Python 3",
      "language": "python",
      "name": "python3"
    }
  },
  "cells": [
    {
      "cell_type": "markdown",
      "metadata": {
        "id": "view-in-github",
        "colab_type": "text"
      },
      "source": [
        "<a href=\"https://colab.research.google.com/github/FnSK4R17s/lesions_classification/blob/master/lesions_classification.ipynb\" target=\"_parent\"><img src=\"https://colab.research.google.com/assets/colab-badge.svg\" alt=\"Open In Colab\"/></a>"
      ]
    },
    {
      "cell_type": "markdown",
      "metadata": {
        "id": "5KeHhvnVYoXT",
        "colab_type": "text"
      },
      "source": [
        "# Importing data"
      ]
    },
    {
      "cell_type": "code",
      "metadata": {
        "scrolled": true,
        "id": "ou3pWduqYoXX",
        "colab_type": "code",
        "colab": {},
        "outputId": "010d18e5-3281-4ad2-a52d-366bcd1e8b2e"
      },
      "source": [
        "import os\n",
        "os.listdir('input/skin-cancer-mnist-ham10000')"
      ],
      "execution_count": 0,
      "outputs": [
        {
          "output_type": "execute_result",
          "data": {
            "text/plain": [
              "['HAM10000_images_part_1',\n",
              " 'HAM10000_images_part_2',\n",
              " 'HAM10000_metadata.csv',\n",
              " 'hmnist_28_28_L.csv',\n",
              " 'hmnist_28_28_RGB.csv',\n",
              " 'hmnist_8_8_L.csv',\n",
              " 'hmnist_8_8_RGB.csv']"
            ]
          },
          "metadata": {
            "tags": []
          },
          "execution_count": 83
        }
      ]
    },
    {
      "cell_type": "code",
      "metadata": {
        "id": "1_T5UiTSYoXf",
        "colab_type": "code",
        "colab": {}
      },
      "source": [
        "import pandas as pd\n",
        "df = pd.read_csv('input/skin-cancer-mnist-ham10000/HAM10000_metadata.csv')"
      ],
      "execution_count": 0,
      "outputs": []
    },
    {
      "cell_type": "code",
      "metadata": {
        "id": "PsSsH2-0YoXh",
        "colab_type": "code",
        "colab": {},
        "outputId": "faf4be59-290c-4e22-cfbe-afbe4ba4e4ba"
      },
      "source": [
        "df.head(10)"
      ],
      "execution_count": 0,
      "outputs": [
        {
          "output_type": "execute_result",
          "data": {
            "text/html": [
              "<div>\n",
              "<style scoped>\n",
              "    .dataframe tbody tr th:only-of-type {\n",
              "        vertical-align: middle;\n",
              "    }\n",
              "\n",
              "    .dataframe tbody tr th {\n",
              "        vertical-align: top;\n",
              "    }\n",
              "\n",
              "    .dataframe thead th {\n",
              "        text-align: right;\n",
              "    }\n",
              "</style>\n",
              "<table border=\"1\" class=\"dataframe\">\n",
              "  <thead>\n",
              "    <tr style=\"text-align: right;\">\n",
              "      <th></th>\n",
              "      <th>lesion_id</th>\n",
              "      <th>image_id</th>\n",
              "      <th>dx</th>\n",
              "      <th>dx_type</th>\n",
              "      <th>age</th>\n",
              "      <th>sex</th>\n",
              "      <th>localization</th>\n",
              "    </tr>\n",
              "  </thead>\n",
              "  <tbody>\n",
              "    <tr>\n",
              "      <th>0</th>\n",
              "      <td>HAM_0000118</td>\n",
              "      <td>ISIC_0027419</td>\n",
              "      <td>bkl</td>\n",
              "      <td>histo</td>\n",
              "      <td>80.0</td>\n",
              "      <td>male</td>\n",
              "      <td>scalp</td>\n",
              "    </tr>\n",
              "    <tr>\n",
              "      <th>1</th>\n",
              "      <td>HAM_0000118</td>\n",
              "      <td>ISIC_0025030</td>\n",
              "      <td>bkl</td>\n",
              "      <td>histo</td>\n",
              "      <td>80.0</td>\n",
              "      <td>male</td>\n",
              "      <td>scalp</td>\n",
              "    </tr>\n",
              "    <tr>\n",
              "      <th>2</th>\n",
              "      <td>HAM_0002730</td>\n",
              "      <td>ISIC_0026769</td>\n",
              "      <td>bkl</td>\n",
              "      <td>histo</td>\n",
              "      <td>80.0</td>\n",
              "      <td>male</td>\n",
              "      <td>scalp</td>\n",
              "    </tr>\n",
              "    <tr>\n",
              "      <th>3</th>\n",
              "      <td>HAM_0002730</td>\n",
              "      <td>ISIC_0025661</td>\n",
              "      <td>bkl</td>\n",
              "      <td>histo</td>\n",
              "      <td>80.0</td>\n",
              "      <td>male</td>\n",
              "      <td>scalp</td>\n",
              "    </tr>\n",
              "    <tr>\n",
              "      <th>4</th>\n",
              "      <td>HAM_0001466</td>\n",
              "      <td>ISIC_0031633</td>\n",
              "      <td>bkl</td>\n",
              "      <td>histo</td>\n",
              "      <td>75.0</td>\n",
              "      <td>male</td>\n",
              "      <td>ear</td>\n",
              "    </tr>\n",
              "    <tr>\n",
              "      <th>5</th>\n",
              "      <td>HAM_0001466</td>\n",
              "      <td>ISIC_0027850</td>\n",
              "      <td>bkl</td>\n",
              "      <td>histo</td>\n",
              "      <td>75.0</td>\n",
              "      <td>male</td>\n",
              "      <td>ear</td>\n",
              "    </tr>\n",
              "    <tr>\n",
              "      <th>6</th>\n",
              "      <td>HAM_0002761</td>\n",
              "      <td>ISIC_0029176</td>\n",
              "      <td>bkl</td>\n",
              "      <td>histo</td>\n",
              "      <td>60.0</td>\n",
              "      <td>male</td>\n",
              "      <td>face</td>\n",
              "    </tr>\n",
              "    <tr>\n",
              "      <th>7</th>\n",
              "      <td>HAM_0002761</td>\n",
              "      <td>ISIC_0029068</td>\n",
              "      <td>bkl</td>\n",
              "      <td>histo</td>\n",
              "      <td>60.0</td>\n",
              "      <td>male</td>\n",
              "      <td>face</td>\n",
              "    </tr>\n",
              "    <tr>\n",
              "      <th>8</th>\n",
              "      <td>HAM_0005132</td>\n",
              "      <td>ISIC_0025837</td>\n",
              "      <td>bkl</td>\n",
              "      <td>histo</td>\n",
              "      <td>70.0</td>\n",
              "      <td>female</td>\n",
              "      <td>back</td>\n",
              "    </tr>\n",
              "    <tr>\n",
              "      <th>9</th>\n",
              "      <td>HAM_0005132</td>\n",
              "      <td>ISIC_0025209</td>\n",
              "      <td>bkl</td>\n",
              "      <td>histo</td>\n",
              "      <td>70.0</td>\n",
              "      <td>female</td>\n",
              "      <td>back</td>\n",
              "    </tr>\n",
              "  </tbody>\n",
              "</table>\n",
              "</div>"
            ],
            "text/plain": [
              "     lesion_id      image_id   dx dx_type   age     sex localization\n",
              "0  HAM_0000118  ISIC_0027419  bkl   histo  80.0    male        scalp\n",
              "1  HAM_0000118  ISIC_0025030  bkl   histo  80.0    male        scalp\n",
              "2  HAM_0002730  ISIC_0026769  bkl   histo  80.0    male        scalp\n",
              "3  HAM_0002730  ISIC_0025661  bkl   histo  80.0    male        scalp\n",
              "4  HAM_0001466  ISIC_0031633  bkl   histo  75.0    male          ear\n",
              "5  HAM_0001466  ISIC_0027850  bkl   histo  75.0    male          ear\n",
              "6  HAM_0002761  ISIC_0029176  bkl   histo  60.0    male         face\n",
              "7  HAM_0002761  ISIC_0029068  bkl   histo  60.0    male         face\n",
              "8  HAM_0005132  ISIC_0025837  bkl   histo  70.0  female         back\n",
              "9  HAM_0005132  ISIC_0025209  bkl   histo  70.0  female         back"
            ]
          },
          "metadata": {
            "tags": []
          },
          "execution_count": 85
        }
      ]
    },
    {
      "cell_type": "code",
      "metadata": {
        "id": "RiEI6XWfYoXm",
        "colab_type": "code",
        "colab": {}
      },
      "source": [
        "def find_img(filename):\n",
        "    path = 'input/skin-cancer-mnist-ham10000/'\n",
        "    path1 = path+\"HAM10000_images_part_1/\"+filename+\".jpg\"\n",
        "    path2 = path+\"HAM10000_images_part_2/\"+filename+\".jpg\"\n",
        "    if os.path.isfile(path1):\n",
        "        return path1\n",
        "    elif os.path.isfile(path2):\n",
        "        return path2\n",
        "    "
      ],
      "execution_count": 0,
      "outputs": []
    },
    {
      "cell_type": "code",
      "metadata": {
        "id": "CrCPtDH4YoXp",
        "colab_type": "code",
        "colab": {}
      },
      "source": [
        "from PIL import Image\n",
        "import numpy as np\n",
        "def open_img(filename):\n",
        "    path = find_img(filename)\n",
        "#     print(path)\n",
        "    img = Image.open(path).resize((150,112))\n",
        "    img = np.asarray(img)\n",
        "    return img\n",
        "\n",
        "    "
      ],
      "execution_count": 0,
      "outputs": []
    },
    {
      "cell_type": "code",
      "metadata": {
        "id": "gOQOdsHNYoXr",
        "colab_type": "code",
        "colab": {}
      },
      "source": [
        "df['image'] = df['image_id'].apply(lambda img : open_img(img))"
      ],
      "execution_count": 0,
      "outputs": []
    },
    {
      "cell_type": "code",
      "metadata": {
        "id": "uJ3ZjiubYoXu",
        "colab_type": "code",
        "colab": {}
      },
      "source": [
        "# df.head(10)"
      ],
      "execution_count": 0,
      "outputs": []
    },
    {
      "cell_type": "code",
      "metadata": {
        "id": "G7UELUQ0YoXx",
        "colab_type": "code",
        "colab": {},
        "outputId": "e82f1c63-c7ce-48f8-b347-5ce425ae05f9"
      },
      "source": [
        "import matplotlib.pyplot as plt\n",
        "img = df['image'][:10]\n",
        "for _ in img:\n",
        "    plt.imshow(_)"
      ],
      "execution_count": 0,
      "outputs": [
        {
          "output_type": "display_data",
          "data": {
            "image/png": "[encoded data removed]",
            "text/plain": [
              "<Figure size 432x288 with 1 Axes>"
            ]
          },
          "metadata": {
            "tags": []
          }
        }
      ]
    },
    {
      "cell_type": "code",
      "metadata": {
        "id": "FPlwpmlIYoX2",
        "colab_type": "code",
        "colab": {},
        "outputId": "71785088-ab9e-49b3-a06b-7ca786eeb2d2"
      },
      "source": [
        "labels = df['dx'].unique()\n",
        "dict_label = {}\n",
        "for idx, name in enumerate(labels):\n",
        "    dict_label[name] = idx\n",
        "print(dict_label)   "
      ],
      "execution_count": 0,
      "outputs": [
        {
          "output_type": "stream",
          "text": [
            "{'bkl': 0, 'nv': 1, 'df': 2, 'mel': 3, 'vasc': 4, 'bcc': 5, 'akiec': 6}\n"
          ],
          "name": "stdout"
        }
      ]
    },
    {
      "cell_type": "code",
      "metadata": {
        "id": "BKd8aG9gYoX7",
        "colab_type": "code",
        "colab": {}
      },
      "source": [
        "df['label'] = df['dx'].apply(lambda dx : dict_label[dx])"
      ],
      "execution_count": 0,
      "outputs": []
    },
    {
      "cell_type": "code",
      "metadata": {
        "id": "WP0TKKbFYoX9",
        "colab_type": "code",
        "colab": {}
      },
      "source": [
        "# df.head(10)"
      ],
      "execution_count": 0,
      "outputs": []
    },
    {
      "cell_type": "code",
      "metadata": {
        "id": "A7I0M1duYoYA",
        "colab_type": "code",
        "colab": {}
      },
      "source": [
        "#Counting Reoccurences\n",
        "df['num_images'] = df.groupby('lesion_id')[\"image_id\"].transform(\"count\")"
      ],
      "execution_count": 0,
      "outputs": []
    },
    {
      "cell_type": "code",
      "metadata": {
        "id": "PcNfq6qsYoYC",
        "colab_type": "code",
        "colab": {}
      },
      "source": [
        "# df.head()"
      ],
      "execution_count": 0,
      "outputs": []
    },
    {
      "cell_type": "code",
      "metadata": {
        "id": "H1vbIQk2YoYE",
        "colab_type": "code",
        "colab": {},
        "outputId": "02f8e2b9-accd-4c75-853a-af5f6c45f0f7"
      },
      "source": [
        "# if only 1 instance of image id present in dataset\n",
        "# we split it into train test and validation set\n",
        "from sklearn.model_selection import train_test_split\n",
        "\n",
        "df_one = df[df['num_images'] == 1]\n",
        "trainandval, test = train_test_split(df_one, test_size=0.2, shuffle=True, random_state=402)\n",
        "original ,val = train_test_split(trainandval, test_size=0.2, shuffle=True, random_state=92)\n",
        "\n",
        "# now we add second occurence of the data to test set\n",
        "duplicate = df[df['num_images'] != 1]\n",
        "\n",
        "train = pd.concat([original, duplicate])\n",
        "\n",
        "print(train.shape)\n",
        "print(test.shape)\n",
        "print(val.shape)"
      ],
      "execution_count": 0,
      "outputs": [
        {
          "output_type": "stream",
          "text": [
            "(8029, 10)\n",
            "(1103, 10)\n",
            "(883, 10)\n"
          ],
          "name": "stdout"
        }
      ]
    },
    {
      "cell_type": "code",
      "metadata": {
        "id": "rgOH_w7EYoYI",
        "colab_type": "code",
        "colab": {}
      },
      "source": [
        "def load_imgs(images):\n",
        "    images = np.asarray(images).astype(np.float64)\n",
        "    images = images[:, :, :, ::-1]\n",
        "    mR = np.mean(images[:, :, :, 0])\n",
        "    mG = np.mean(images[:, :, :, 1])\n",
        "    mB = np.mean(images[:, :, :, 2])\n",
        "    images[:, :, :, 0] -= mR\n",
        "    images[:, :, :, 1] -= mG\n",
        "    images[:, :, :, 2] -= mB\n",
        "    return images\n",
        "        "
      ],
      "execution_count": 0,
      "outputs": []
    },
    {
      "cell_type": "code",
      "metadata": {
        "id": "2_zmL_7WYoYL",
        "colab_type": "code",
        "colab": {}
      },
      "source": [
        "xtrain = load_imgs(list(train['image']))\n",
        "xtest = load_imgs(list(test['image']))\n",
        "xval = load_imgs(list(val['image']))\n",
        "\n",
        "ytrain = train['label']\n",
        "ytest = test['label']\n",
        "yval = val['label']"
      ],
      "execution_count": 0,
      "outputs": []
    },
    {
      "cell_type": "code",
      "metadata": {
        "id": "DN2QXVGLYoYO",
        "colab_type": "code",
        "colab": {},
        "outputId": "09cd638e-39d7-4f46-d391-de5788d22e20"
      },
      "source": [
        "# data is ready for prediction\n",
        "\n",
        "print(np.shape(xtrain))\n",
        "print(np.shape(xtest))\n",
        "print(np.shape(xval))"
      ],
      "execution_count": 0,
      "outputs": [
        {
          "output_type": "stream",
          "text": [
            "(8029, 112, 150, 3)\n",
            "(1103, 112, 150, 3)\n",
            "(883, 112, 150, 3)\n"
          ],
          "name": "stdout"
        }
      ]
    },
    {
      "cell_type": "markdown",
      "metadata": {
        "id": "YcQ2ZYGgYoYS",
        "colab_type": "text"
      },
      "source": [
        "# Using InceptionV3 as our base model"
      ]
    },
    {
      "cell_type": "code",
      "metadata": {
        "id": "J2he6zUHYoYT",
        "colab_type": "code",
        "colab": {},
        "outputId": "469a6e2b-00dd-4c52-b765-9fd361b16394"
      },
      "source": [
        "from tensorflow.keras.applications import InceptionV3\n",
        "from tensorflow.keras.models import Sequential\n",
        "from tensorflow.keras.layers import Dense, Dropout\n",
        "from keras import regularizers\n",
        "\n",
        "input_shape = (112, 150, 3)\n",
        "\n",
        "num_labels = 7\n",
        "\n",
        "base_model = InceptionV3(include_top=False, input_shape=(112, 150, 3),pooling = 'avg', weights = 'imagenet')\n",
        "model = Sequential()\n",
        "model.add(base_model)\n",
        "model.add(Dropout(0.5))\n",
        "model.add(Dense(128, activation=\"relu\",kernel_regularizer=regularizers.l2(0.02)))\n",
        "model.add(Dropout(0.5))\n",
        "model.add(Dense(num_labels, activation = 'softmax',kernel_regularizer=regularizers.l2(0.02)))\n",
        "\n",
        "\n",
        "# setting all the base layers to non trainable as instructed in fast.ai course\n",
        "for layer in base_model.layers:\n",
        "    layer.trainable = False\n",
        "    \n",
        "\n",
        "model.summary()"
      ],
      "execution_count": 0,
      "outputs": [
        {
          "output_type": "stream",
          "text": [
            "_________________________________________________________________\n",
            "Layer (type)                 Output Shape              Param #   \n",
            "=================================================================\n",
            "inception_v3 (Model)         (None, 2048)              21802784  \n",
            "_________________________________________________________________\n",
            "dropout_9 (Dropout)          (None, 2048)              0         \n",
            "_________________________________________________________________\n",
            "dense_9 (Dense)              (None, 128)               262272    \n",
            "_________________________________________________________________\n",
            "dropout_10 (Dropout)         (None, 128)               0         \n",
            "_________________________________________________________________\n",
            "dense_10 (Dense)             (None, 7)                 903       \n",
            "=================================================================\n",
            "Total params: 22,065,959\n",
            "Trainable params: 263,175\n",
            "Non-trainable params: 21,802,784\n",
            "_________________________________________________________________\n"
          ],
          "name": "stdout"
        }
      ]
    },
    {
      "cell_type": "code",
      "metadata": {
        "id": "9sbC6fo1YoYY",
        "colab_type": "code",
        "colab": {}
      },
      "source": [
        "from tensorflow.keras.optimizers import Adam\n",
        "optimizer = Adam (lr=0.0005, beta_1=0.9, beta_2=0.999, epsilon=None, decay=5e-7, amsgrad=False)\n",
        "model.compile(optimizer = optimizer , loss = \"sparse_categorical_crossentropy\", metrics=[\"accuracy\"])"
      ],
      "execution_count": 0,
      "outputs": []
    },
    {
      "cell_type": "markdown",
      "metadata": {
        "id": "9J0n7NVDYoYc",
        "colab_type": "text"
      },
      "source": [
        "# defining important callbacks which stop training at the right time"
      ]
    },
    {
      "cell_type": "code",
      "metadata": {
        "id": "XZYyK1TTYoYe",
        "colab_type": "code",
        "colab": {},
        "outputId": "7389feca-12ff-4800-c07e-ea88de85195c"
      },
      "source": [
        "import tensorflow.keras as keras\n",
        "from tensorflow.keras.callbacks import ModelCheckpoint, EarlyStopping\n",
        "\n",
        "cb_early_stopper = EarlyStopping(monitor = 'val_loss', patience = 3)\n",
        "cb_checkpointer = ModelCheckpoint(filepath = 'working/best.hdf5', monitor = 'val_loss', save_best_only = True, mode = 'auto')\n",
        "\n",
        "epochs = 12 \n",
        "batch_size = 64\n",
        "\n",
        "history = model.fit(x=xtrain, y=ytrain,\n",
        "                    batch_size=batch_size,\n",
        "                    epochs=epochs, verbose=1,\n",
        "                    validation_data=(xval, yval),\n",
        "                    shuffle=True,\n",
        "                    callbacks=[cb_early_stopper, cb_checkpointer])"
      ],
      "execution_count": 0,
      "outputs": [
        {
          "output_type": "stream",
          "text": [
            "Train on 8029 samples, validate on 883 samples\n",
            "Epoch 1/12\n",
            "8029/8029 [==============================] - 9s 1ms/sample - loss: 1.2075 - acc: 0.6408 - val_loss: 3.3430 - val_acc: 0.8007\n",
            "Epoch 2/12\n",
            "8029/8029 [==============================] - 8s 1ms/sample - loss: 1.2109 - acc: 0.6389 - val_loss: 3.3364 - val_acc: 0.8007\n",
            "Epoch 3/12\n",
            "8029/8029 [==============================] - 9s 1ms/sample - loss: 1.2108 - acc: 0.6384 - val_loss: 3.1813 - val_acc: 0.8007\n",
            "Epoch 4/12\n",
            "8029/8029 [==============================] - 8s 1ms/sample - loss: 1.2032 - acc: 0.6424 - val_loss: 2.6767 - val_acc: 0.7452\n",
            "Epoch 5/12\n",
            "8029/8029 [==============================] - 8s 1ms/sample - loss: 1.2062 - acc: 0.6404 - val_loss: 2.7168 - val_acc: 0.7826\n",
            "Epoch 6/12\n",
            "8029/8029 [==============================] - 8s 1ms/sample - loss: 1.1990 - acc: 0.6404 - val_loss: 3.2508 - val_acc: 0.8007\n",
            "Epoch 7/12\n",
            "8029/8029 [==============================] - 8s 1ms/sample - loss: 1.1961 - acc: 0.6389 - val_loss: 2.8524 - val_acc: 0.7758\n"
          ],
          "name": "stdout"
        }
      ]
    },
    {
      "cell_type": "code",
      "metadata": {
        "id": "FLV1JCQxYoYi",
        "colab_type": "code",
        "colab": {},
        "outputId": "bcbcc781-0319-411c-eafc-23947d1928bd"
      },
      "source": [
        "# Plot training & validation accuracy values\n",
        "plt.plot(history.history['acc'])\n",
        "plt.plot(history.history['val_acc'])\n",
        "plt.title('Model accuracy')\n",
        "plt.ylabel('Accuracy')\n",
        "plt.xlabel('Epoch')\n",
        "plt.legend(['Train', 'Test'], loc='upper left')\n",
        "plt.show()\n",
        "\n",
        "# Plot training & validation loss values\n",
        "plt.plot(history.history['loss'])\n",
        "plt.plot(history.history['val_loss'])\n",
        "plt.title('Model loss')\n",
        "plt.ylabel('Loss')\n",
        "plt.xlabel('Epoch')\n",
        "plt.legend(['Train', 'Test'], loc='upper left')\n",
        "plt.show()"
      ],
      "execution_count": 0,
      "outputs": [
        {
          "output_type": "display_data",
          "data": {
            "image/png": "[encoded data removed]",
            "text/plain": [
              "<Figure size 432x288 with 1 Axes>"
            ]
          },
          "metadata": {
            "tags": []
          }
        },
        {
          "output_type": "display_data",
          "data": {
            "image/png": "[encoded data removed]",
            "text/plain": [
              "<Figure size 432x288 with 1 Axes>"
            ]
          },
          "metadata": {
            "tags": []
          }
        }
      ]
    },
    {
      "cell_type": "code",
      "metadata": {
        "id": "xE9N7Qa7YoYl",
        "colab_type": "code",
        "colab": {},
        "outputId": "a24b8e13-8ce1-4173-9de7-3a675c300096"
      },
      "source": [
        "model.load_weights(\"working/best.hdf5\")\n",
        "test_loss, test_acc = model.evaluate(xtest, ytest, verbose=1)\n",
        "print(\"test_accuracy = %f  ;  test_loss = %f\" % (test_acc, test_loss))"
      ],
      "execution_count": 0,
      "outputs": [
        {
          "output_type": "stream",
          "text": [
            "1103/1103 [==============================] - 1s 1ms/sample - loss: 2.5493 - acc: 0.7625\n",
            "test_accuracy = 0.762466  ;  test_loss = 2.549271\n"
          ],
          "name": "stdout"
        }
      ]
    },
    {
      "cell_type": "code",
      "metadata": {
        "id": "uS2P1cMeYoYn",
        "colab_type": "code",
        "colab": {},
        "outputId": "0db995bd-56ae-41d2-db35-17e1fb4cac99"
      },
      "source": [
        "from sklearn.metrics import confusion_matrix\n",
        "train_pred = model.predict(xtrain)\n",
        "train_pred_classes = np.argmax(train_pred,axis = 1)\n",
        "test_pred = model.predict(xtest)\n",
        "# Convert predictions classes to one hot vectors \n",
        "test_pred_classes = np.argmax(test_pred,axis = 1) \n",
        "\n",
        "confusionmatrix = confusion_matrix(ytest, test_pred_classes)\n",
        "confusionmatrix"
      ],
      "execution_count": 0,
      "outputs": [
        {
          "output_type": "execute_result",
          "data": {
            "text/plain": [
              "array([[  0,  82,   0,   6,   0,   0,   0],\n",
              "       [  0, 839,   0,  57,   0,   0,   0],\n",
              "       [  0,   7,   0,   1,   0,   0,   0],\n",
              "       [  0,  38,   0,   2,   0,   0,   0],\n",
              "       [  0,  13,   0,   0,   0,   0,   0],\n",
              "       [  0,  31,   0,   1,   0,   0,   0],\n",
              "       [  0,  24,   0,   2,   0,   0,   0]], dtype=int64)"
            ]
          },
          "metadata": {
            "tags": []
          },
          "execution_count": 122
        }
      ]
    },
    {
      "cell_type": "markdown",
      "metadata": {
        "id": "PBYGCfT3YoYq",
        "colab_type": "text"
      },
      "source": [
        "# we can see that our model overfits due to unbalanced dataset"
      ]
    },
    {
      "cell_type": "code",
      "metadata": {
        "scrolled": true,
        "id": "oYn9whiLYoYr",
        "colab_type": "code",
        "colab": {},
        "outputId": "c785d49f-163a-4303-fd9a-89e30e4590ef"
      },
      "source": [
        "from sklearn.metrics import classification_report\n",
        "labels = dict_label.keys()\n",
        "# Generate a classification report\n",
        "#trainreport = classification_report(trainlabels, train_pred_classes, target_names=list(labels))\n",
        "testreport = classification_report(ytest, test_pred_classes, target_names=list(labels))\n",
        "#print(trainreport)\n",
        "print(testreport)"
      ],
      "execution_count": 0,
      "outputs": [
        {
          "output_type": "stream",
          "text": [
            "              precision    recall  f1-score   support\n",
            "\n",
            "         bkl       0.00      0.00      0.00        88\n",
            "          nv       0.81      0.94      0.87       896\n",
            "          df       0.00      0.00      0.00         8\n",
            "         mel       0.03      0.05      0.04        40\n",
            "        vasc       0.00      0.00      0.00        13\n",
            "         bcc       0.00      0.00      0.00        32\n",
            "       akiec       0.00      0.00      0.00        26\n",
            "\n",
            "    accuracy                           0.76      1103\n",
            "   macro avg       0.12      0.14      0.13      1103\n",
            "weighted avg       0.66      0.76      0.71      1103\n",
            "\n"
          ],
          "name": "stdout"
        },
        {
          "output_type": "stream",
          "text": [
            "C:\\Users\\Shikhar\\Anaconda3\\lib\\site-packages\\sklearn\\metrics\\classification.py:1437: UndefinedMetricWarning: Precision and F-score are ill-defined and being set to 0.0 in labels with no predicted samples.\n",
            "  'precision', 'predicted', average, warn_for)\n"
          ],
          "name": "stderr"
        }
      ]
    },
    {
      "cell_type": "markdown",
      "metadata": {
        "id": "oaxpCSDhYoYu",
        "colab_type": "text"
      },
      "source": [
        "# As the dataset we are using is very imbalanced we use data augmentation"
      ]
    },
    {
      "cell_type": "code",
      "metadata": {
        "id": "HvA91DbVYoYv",
        "colab_type": "code",
        "colab": {}
      },
      "source": [
        "os.mkdir('train_set')"
      ],
      "execution_count": 0,
      "outputs": []
    },
    {
      "cell_type": "code",
      "metadata": {
        "id": "TsXQWeUnYoYy",
        "colab_type": "code",
        "colab": {}
      },
      "source": [
        "dirs = train['dx'].unique()"
      ],
      "execution_count": 0,
      "outputs": []
    },
    {
      "cell_type": "code",
      "metadata": {
        "id": "v7TWZowxYoY2",
        "colab_type": "code",
        "colab": {}
      },
      "source": [
        "for dir_ in dirs:\n",
        "    os.makedirs('train_set/'+dir_)"
      ],
      "execution_count": 0,
      "outputs": []
    },
    {
      "cell_type": "code",
      "metadata": {
        "id": "cdBHePh8YoY5",
        "colab_type": "code",
        "colab": {},
        "outputId": "d2c858cd-9def-41d7-8819-baff03ba991e"
      },
      "source": [
        "os.listdir('train_set')"
      ],
      "execution_count": 0,
      "outputs": [
        {
          "output_type": "execute_result",
          "data": {
            "text/plain": [
              "['akiec', 'bcc', 'bkl', 'df', 'mel', 'nv', 'vasc']"
            ]
          },
          "metadata": {
            "tags": []
          },
          "execution_count": 147
        }
      ]
    },
    {
      "cell_type": "code",
      "metadata": {
        "id": "2FuF4ArNYoY8",
        "colab_type": "code",
        "colab": {},
        "outputId": "6316680b-ac88-42f4-d27c-863a0e68308d"
      },
      "source": [
        "train.head()"
      ],
      "execution_count": 0,
      "outputs": [
        {
          "output_type": "execute_result",
          "data": {
            "text/html": [
              "<div>\n",
              "<style scoped>\n",
              "    .dataframe tbody tr th:only-of-type {\n",
              "        vertical-align: middle;\n",
              "    }\n",
              "\n",
              "    .dataframe tbody tr th {\n",
              "        vertical-align: top;\n",
              "    }\n",
              "\n",
              "    .dataframe thead th {\n",
              "        text-align: right;\n",
              "    }\n",
              "</style>\n",
              "<table border=\"1\" class=\"dataframe\">\n",
              "  <thead>\n",
              "    <tr style=\"text-align: right;\">\n",
              "      <th></th>\n",
              "      <th>lesion_id</th>\n",
              "      <th>image_id</th>\n",
              "      <th>dx</th>\n",
              "      <th>dx_type</th>\n",
              "      <th>age</th>\n",
              "      <th>sex</th>\n",
              "      <th>localization</th>\n",
              "      <th>image</th>\n",
              "      <th>label</th>\n",
              "      <th>num_images</th>\n",
              "    </tr>\n",
              "  </thead>\n",
              "  <tbody>\n",
              "    <tr>\n",
              "      <th>1058</th>\n",
              "      <td>HAM_0007027</td>\n",
              "      <td>ISIC_0026967</td>\n",
              "      <td>bkl</td>\n",
              "      <td>consensus</td>\n",
              "      <td>75.0</td>\n",
              "      <td>female</td>\n",
              "      <td>back</td>\n",
              "      <td>[[[196, 119, 93], [200, 124, 108], [203, 126, ...</td>\n",
              "      <td>0</td>\n",
              "      <td>1</td>\n",
              "    </tr>\n",
              "    <tr>\n",
              "      <th>3927</th>\n",
              "      <td>HAM_0003289</td>\n",
              "      <td>ISIC_0031357</td>\n",
              "      <td>nv</td>\n",
              "      <td>follow_up</td>\n",
              "      <td>45.0</td>\n",
              "      <td>female</td>\n",
              "      <td>abdomen</td>\n",
              "      <td>[[[236, 154, 166], [235, 155, 168], [234, 152,...</td>\n",
              "      <td>1</td>\n",
              "      <td>1</td>\n",
              "    </tr>\n",
              "    <tr>\n",
              "      <th>4930</th>\n",
              "      <td>HAM_0006051</td>\n",
              "      <td>ISIC_0030475</td>\n",
              "      <td>nv</td>\n",
              "      <td>follow_up</td>\n",
              "      <td>45.0</td>\n",
              "      <td>male</td>\n",
              "      <td>lower extremity</td>\n",
              "      <td>[[[246, 155, 160], [246, 156, 168], [246, 159,...</td>\n",
              "      <td>1</td>\n",
              "      <td>1</td>\n",
              "    </tr>\n",
              "    <tr>\n",
              "      <th>3613</th>\n",
              "      <td>HAM_0006339</td>\n",
              "      <td>ISIC_0031279</td>\n",
              "      <td>nv</td>\n",
              "      <td>follow_up</td>\n",
              "      <td>45.0</td>\n",
              "      <td>male</td>\n",
              "      <td>back</td>\n",
              "      <td>[[[224, 135, 139], [225, 144, 140], [223, 146,...</td>\n",
              "      <td>1</td>\n",
              "      <td>1</td>\n",
              "    </tr>\n",
              "    <tr>\n",
              "      <th>8044</th>\n",
              "      <td>HAM_0002606</td>\n",
              "      <td>ISIC_0033228</td>\n",
              "      <td>nv</td>\n",
              "      <td>consensus</td>\n",
              "      <td>25.0</td>\n",
              "      <td>male</td>\n",
              "      <td>unknown</td>\n",
              "      <td>[[[101, 62, 89], [108, 63, 94], [114, 69, 100]...</td>\n",
              "      <td>1</td>\n",
              "      <td>1</td>\n",
              "    </tr>\n",
              "  </tbody>\n",
              "</table>\n",
              "</div>"
            ],
            "text/plain": [
              "        lesion_id      image_id   dx    dx_type   age     sex  \\\n",
              "1058  HAM_0007027  ISIC_0026967  bkl  consensus  75.0  female   \n",
              "3927  HAM_0003289  ISIC_0031357   nv  follow_up  45.0  female   \n",
              "4930  HAM_0006051  ISIC_0030475   nv  follow_up  45.0    male   \n",
              "3613  HAM_0006339  ISIC_0031279   nv  follow_up  45.0    male   \n",
              "8044  HAM_0002606  ISIC_0033228   nv  consensus  25.0    male   \n",
              "\n",
              "         localization                                              image  \\\n",
              "1058             back  [[[196, 119, 93], [200, 124, 108], [203, 126, ...   \n",
              "3927          abdomen  [[[236, 154, 166], [235, 155, 168], [234, 152,...   \n",
              "4930  lower extremity  [[[246, 155, 160], [246, 156, 168], [246, 159,...   \n",
              "3613             back  [[[224, 135, 139], [225, 144, 140], [223, 146,...   \n",
              "8044          unknown  [[[101, 62, 89], [108, 63, 94], [114, 69, 100]...   \n",
              "\n",
              "      label  num_images  \n",
              "1058      0           1  \n",
              "3927      1           1  \n",
              "4930      1           1  \n",
              "3613      1           1  \n",
              "8044      1           1  "
            ]
          },
          "metadata": {
            "tags": []
          },
          "execution_count": 148
        }
      ]
    },
    {
      "cell_type": "code",
      "metadata": {
        "id": "v5G_M4soYoZA",
        "colab_type": "code",
        "colab": {}
      },
      "source": [
        "def save_imgs(row):\n",
        "    path = 'train_set/'+row['dx']+'/'+row['image_id']+'.jpg'\n",
        "\n",
        "    im = Image.fromarray(row['image'])\n",
        "    im.save(path)\n",
        "\n",
        "\n",
        "x = train.apply(save_imgs, axis=1)"
      ],
      "execution_count": 0,
      "outputs": []
    },
    {
      "cell_type": "code",
      "metadata": {
        "id": "eo8VjeAhYoZC",
        "colab_type": "code",
        "colab": {},
        "outputId": "d7e530c9-7df4-4af2-9255-8ed2e7b9fd19"
      },
      "source": [
        "print(len(os.listdir('train_set/nv')))\n",
        "print(len(os.listdir('train_set/mel')))\n",
        "print(len(os.listdir('train_set/bkl')))\n",
        "print(len(os.listdir('train_set/bcc')))\n",
        "print(len(os.listdir('train_set/akiec')))\n",
        "print(len(os.listdir('train_set/vasc')))\n",
        "print(len(os.listdir('train_set/df')))"
      ],
      "execution_count": 0,
      "outputs": [
        {
          "output_type": "stream",
          "text": [
            "5102\n",
            "1035\n",
            "945\n",
            "448\n",
            "273\n",
            "124\n",
            "102\n"
          ],
          "name": "stdout"
        }
      ]
    },
    {
      "cell_type": "code",
      "metadata": {
        "id": "wpBiOrm5YoZG",
        "colab_type": "code",
        "colab": {},
        "outputId": "c802f06b-8035-4afd-8e30-6402e6e81e20"
      },
      "source": [
        "import shutil\n",
        "from tensorflow.keras.preprocessing.image import ImageDataGenerator\n",
        "\n",
        "# Copy the train images into aug_dir\n",
        "# note that we are not augmenting class 'nv'\n",
        "class_list = ['mel','bkl','bcc','akiec','vasc','df']\n",
        "\n",
        "for item in class_list:\n",
        "    \n",
        "    # We are creating temporary directories here because we delete these directories later\n",
        "    # create a base dir\n",
        "    aug_dir = 'aug_dir'\n",
        "    os.mkdir(aug_dir)\n",
        "    # create a dir within the base dir to store images of the same class\n",
        "    img_dir = os.path.join(aug_dir, 'img_dir')\n",
        "    os.mkdir(img_dir)\n",
        "\n",
        "    # Choose a class\n",
        "    img_class = item\n",
        "\n",
        "    # list all images in that directory\n",
        "    img_list = os.listdir('train_set/' + img_class)\n",
        "\n",
        "    # Copy images from the class train dir to the img_dir e.g. class 'mel'\n",
        "    for fname in img_list:\n",
        "            # source path to image\n",
        "            src = os.path.join('train_set/' + img_class, fname)\n",
        "            # destination path to image\n",
        "            dst = os.path.join(img_dir, fname)\n",
        "            # copy the image from the source to the destination\n",
        "            shutil.copyfile(src, dst)\n",
        "\n",
        "\n",
        "    # point to a dir containing the images and not to the images themselves\n",
        "    path = aug_dir\n",
        "    save_path = 'train_set/' + img_class\n",
        "\n",
        "    # Create a data generator\n",
        "    datagen = ImageDataGenerator(\n",
        "        rotation_range=180,\n",
        "        width_shift_range=0.1,\n",
        "        height_shift_range=0.1,\n",
        "        zoom_range=0.1,\n",
        "        horizontal_flip=True,\n",
        "        vertical_flip=True,\n",
        "        #brightness_range=(0.9,1.1),\n",
        "        fill_mode='nearest')\n",
        "\n",
        "    batch_size = 50\n",
        "\n",
        "    aug_datagen = datagen.flow_from_directory(path,\n",
        "                                           save_to_dir=save_path,\n",
        "                                           save_format='jpg',\n",
        "                                                    target_size=(112,150),\n",
        "                                                    batch_size=batch_size)\n",
        "\n",
        "\n",
        "\n",
        "    # Generate the augmented images and add them to the training folders\n",
        "    \n",
        "    ###########\n",
        "    \n",
        "    num_aug_images_wanted = 6000 # total number of images we want to have in each class\n",
        "    \n",
        "    ###########\n",
        "    \n",
        "    num_files = len(os.listdir(img_dir))\n",
        "    num_batches = int(np.ceil((num_aug_images_wanted-num_files)/batch_size))\n",
        "\n",
        "    # run the generator and create about 6000 augmented images\n",
        "    for i in range(0,num_batches):\n",
        "\n",
        "        imgs, labels = next(aug_datagen)\n",
        "        \n",
        "    # delete temporary directory with the raw image files\n",
        "    shutil.rmtree('aug_dir')"
      ],
      "execution_count": 0,
      "outputs": [
        {
          "output_type": "stream",
          "text": [
            "Found 1035 images belonging to 1 classes.\n",
            "Found 945 images belonging to 1 classes.\n",
            "Found 448 images belonging to 1 classes.\n",
            "Found 273 images belonging to 1 classes.\n",
            "Found 124 images belonging to 1 classes.\n",
            "Found 102 images belonging to 1 classes.\n"
          ],
          "name": "stdout"
        }
      ]
    },
    {
      "cell_type": "code",
      "metadata": {
        "id": "okn1HcmwYoZM",
        "colab_type": "code",
        "colab": {},
        "outputId": "d0006393-5762-4c1b-95c6-e46cbe4bb211"
      },
      "source": [
        "print(len(os.listdir('train_set/nv')))\n",
        "print(len(os.listdir('train_set/mel')))\n",
        "print(len(os.listdir('train_set/bkl')))\n",
        "print(len(os.listdir('train_set/bcc')))\n",
        "print(len(os.listdir('train_set/akiec')))\n",
        "print(len(os.listdir('train_set/vasc')))\n",
        "print(len(os.listdir('train_set/df')))"
      ],
      "execution_count": 0,
      "outputs": [
        {
          "output_type": "stream",
          "text": [
            "5102\n",
            "5975\n",
            "6020\n",
            "6024\n",
            "5510\n",
            "5010\n",
            "4130\n"
          ],
          "name": "stdout"
        }
      ]
    },
    {
      "cell_type": "code",
      "metadata": {
        "id": "n9w0yGxCYoZQ",
        "colab_type": "code",
        "colab": {},
        "outputId": "78048796-2bfd-4482-f2b8-e454df8f5dff"
      },
      "source": [
        "xtraining = []\n",
        "ytraining = []\n",
        "def open_train_img(path):\n",
        "    img = Image.open(path).resize((150,112))\n",
        "    img = np.asarray(img)\n",
        "    return img\n",
        "\n",
        "\n",
        "\n",
        "for dir_ in os.listdir('train_set'):\n",
        "    print(dir_)\n",
        "    for image_file in os.listdir('train_set/'+dir_):\n",
        "        img_path = 'train_set/'+dir_+'/'+image_file\n",
        "        xtraining.append(img_path)\n",
        "        ytraining.append(dict_label[dir_])"
      ],
      "execution_count": 0,
      "outputs": [
        {
          "output_type": "stream",
          "text": [
            "akiec\n",
            "bcc\n",
            "bkl\n",
            "df\n",
            "mel\n",
            "nv\n",
            "vasc\n"
          ],
          "name": "stdout"
        }
      ]
    },
    {
      "cell_type": "code",
      "metadata": {
        "collapsed": true,
        "id": "R6y1DKqlYoZU",
        "colab_type": "code",
        "colab": {},
        "outputId": "ed9f82e7-6f4c-4a7a-a115-5e5df1098780"
      },
      "source": [
        "testing = pd.DataFrame({'features':xtraining[:],'label':ytraining[:]})"
      ],
      "execution_count": 0,
      "outputs": [
        {
          "output_type": "stream",
          "text": [
            "                               features  label\n",
            "0      train_set/akiec/ISIC_0024372.jpg      6\n",
            "1      train_set/akiec/ISIC_0024418.jpg      6\n",
            "2      train_set/akiec/ISIC_0024450.jpg      6\n",
            "3      train_set/akiec/ISIC_0024463.jpg      6\n",
            "4      train_set/akiec/ISIC_0024468.jpg      6\n",
            "5      train_set/akiec/ISIC_0024470.jpg      6\n",
            "6      train_set/akiec/ISIC_0024511.jpg      6\n",
            "7      train_set/akiec/ISIC_0024517.jpg      6\n",
            "8      train_set/akiec/ISIC_0024522.jpg      6\n",
            "9      train_set/akiec/ISIC_0024539.jpg      6\n",
            "10     train_set/akiec/ISIC_0024562.jpg      6\n",
            "11     train_set/akiec/ISIC_0024575.jpg      6\n",
            "12     train_set/akiec/ISIC_0024579.jpg      6\n",
            "13     train_set/akiec/ISIC_0024646.jpg      6\n",
            "14     train_set/akiec/ISIC_0024654.jpg      6\n",
            "15     train_set/akiec/ISIC_0024710.jpg      6\n",
            "16     train_set/akiec/ISIC_0024763.jpg      6\n",
            "17     train_set/akiec/ISIC_0024771.jpg      6\n",
            "18     train_set/akiec/ISIC_0024800.jpg      6\n",
            "19     train_set/akiec/ISIC_0024843.jpg      6\n",
            "20     train_set/akiec/ISIC_0024923.jpg      6\n",
            "21     train_set/akiec/ISIC_0024925.jpg      6\n",
            "22     train_set/akiec/ISIC_0024946.jpg      6\n",
            "23     train_set/akiec/ISIC_0024948.jpg      6\n",
            "24     train_set/akiec/ISIC_0025029.jpg      6\n",
            "25     train_set/akiec/ISIC_0025069.jpg      6\n",
            "26     train_set/akiec/ISIC_0025089.jpg      6\n",
            "27     train_set/akiec/ISIC_0025130.jpg      6\n",
            "28     train_set/akiec/ISIC_0025178.jpg      6\n",
            "29     train_set/akiec/ISIC_0025196.jpg      6\n",
            "...                                 ...    ...\n",
            "37741     train_set/vasc/_9_3561802.jpg      4\n",
            "37742     train_set/vasc/_9_3801620.jpg      4\n",
            "37743     train_set/vasc/_9_3937701.jpg      4\n",
            "37744       train_set/vasc/_9_41493.jpg      4\n",
            "37745     train_set/vasc/_9_4280796.jpg      4\n",
            "37746     train_set/vasc/_9_4667810.jpg      4\n",
            "37747     train_set/vasc/_9_4678572.jpg      4\n",
            "37748     train_set/vasc/_9_4863961.jpg      4\n",
            "37749     train_set/vasc/_9_5194527.jpg      4\n",
            "37750     train_set/vasc/_9_5371172.jpg      4\n",
            "37751     train_set/vasc/_9_5795036.jpg      4\n",
            "37752     train_set/vasc/_9_5877119.jpg      4\n",
            "37753     train_set/vasc/_9_5986878.jpg      4\n",
            "37754     train_set/vasc/_9_6164802.jpg      4\n",
            "37755     train_set/vasc/_9_6169171.jpg      4\n",
            "37756     train_set/vasc/_9_6205664.jpg      4\n",
            "37757     train_set/vasc/_9_6361899.jpg      4\n",
            "37758     train_set/vasc/_9_6547851.jpg      4\n",
            "37759     train_set/vasc/_9_6950250.jpg      4\n",
            "37760     train_set/vasc/_9_7409580.jpg      4\n",
            "37761     train_set/vasc/_9_7459846.jpg      4\n",
            "37762     train_set/vasc/_9_7499519.jpg      4\n",
            "37763     train_set/vasc/_9_8025267.jpg      4\n",
            "37764      train_set/vasc/_9_820185.jpg      4\n",
            "37765      train_set/vasc/_9_864786.jpg      4\n",
            "37766     train_set/vasc/_9_8713799.jpg      4\n",
            "37767     train_set/vasc/_9_8890859.jpg      4\n",
            "37768     train_set/vasc/_9_8969460.jpg      4\n",
            "37769     train_set/vasc/_9_9301867.jpg      4\n",
            "37770     train_set/vasc/_9_9736603.jpg      4\n",
            "\n",
            "[37771 rows x 2 columns]\n"
          ],
          "name": "stdout"
        }
      ]
    },
    {
      "cell_type": "code",
      "metadata": {
        "id": "ljw53AwBYoZX",
        "colab_type": "code",
        "colab": {},
        "outputId": "c473061e-228f-4095-f6ae-f6aec9529b0a"
      },
      "source": [
        "testing = testing.sample(frac=1).reset_index(drop=True)\n",
        "testing.head()"
      ],
      "execution_count": 0,
      "outputs": [
        {
          "output_type": "execute_result",
          "data": {
            "text/html": [
              "<div>\n",
              "<style scoped>\n",
              "    .dataframe tbody tr th:only-of-type {\n",
              "        vertical-align: middle;\n",
              "    }\n",
              "\n",
              "    .dataframe tbody tr th {\n",
              "        vertical-align: top;\n",
              "    }\n",
              "\n",
              "    .dataframe thead th {\n",
              "        text-align: right;\n",
              "    }\n",
              "</style>\n",
              "<table border=\"1\" class=\"dataframe\">\n",
              "  <thead>\n",
              "    <tr style=\"text-align: right;\">\n",
              "      <th></th>\n",
              "      <th>features</th>\n",
              "      <th>label</th>\n",
              "    </tr>\n",
              "  </thead>\n",
              "  <tbody>\n",
              "    <tr>\n",
              "      <th>0</th>\n",
              "      <td>train_set/bkl/_225_3381109.jpg</td>\n",
              "      <td>0</td>\n",
              "    </tr>\n",
              "    <tr>\n",
              "      <th>1</th>\n",
              "      <td>train_set/vasc/_3_1471170.jpg</td>\n",
              "      <td>4</td>\n",
              "    </tr>\n",
              "    <tr>\n",
              "      <th>2</th>\n",
              "      <td>train_set/bkl/_835_9076670.jpg</td>\n",
              "      <td>0</td>\n",
              "    </tr>\n",
              "    <tr>\n",
              "      <th>3</th>\n",
              "      <td>train_set/bkl/ISIC_0032463.jpg</td>\n",
              "      <td>0</td>\n",
              "    </tr>\n",
              "    <tr>\n",
              "      <th>4</th>\n",
              "      <td>train_set/bcc/_78_8960540.jpg</td>\n",
              "      <td>5</td>\n",
              "    </tr>\n",
              "  </tbody>\n",
              "</table>\n",
              "</div>"
            ],
            "text/plain": [
              "                         features  label\n",
              "0  train_set/bkl/_225_3381109.jpg      0\n",
              "1   train_set/vasc/_3_1471170.jpg      4\n",
              "2  train_set/bkl/_835_9076670.jpg      0\n",
              "3  train_set/bkl/ISIC_0032463.jpg      0\n",
              "4   train_set/bcc/_78_8960540.jpg      5"
            ]
          },
          "metadata": {
            "tags": []
          },
          "execution_count": 196
        }
      ]
    },
    {
      "cell_type": "code",
      "metadata": {
        "id": "jq90gNvrYoZZ",
        "colab_type": "code",
        "colab": {},
        "outputId": "bcc33b70-98e4-48ef-d812-2a980cd72c3b"
      },
      "source": [
        "testing['features'][0]"
      ],
      "execution_count": 0,
      "outputs": [
        {
          "output_type": "execute_result",
          "data": {
            "text/plain": [
              "'train_set/bkl/_225_3381109.jpg'"
            ]
          },
          "metadata": {
            "tags": []
          },
          "execution_count": 198
        }
      ]
    },
    {
      "cell_type": "code",
      "metadata": {
        "id": "RJ8RBGe8YoZc",
        "colab_type": "code",
        "colab": {}
      },
      "source": [
        "testing['features'] = testing['features'].apply(lambda img : open_train_img(img))"
      ],
      "execution_count": 0,
      "outputs": []
    },
    {
      "cell_type": "code",
      "metadata": {
        "id": "vJbnMH7RYoZe",
        "colab_type": "code",
        "colab": {}
      },
      "source": [
        "data = load_imgs(list(testing['features']))"
      ],
      "execution_count": 0,
      "outputs": []
    },
    {
      "cell_type": "code",
      "metadata": {
        "id": "-XOmSjRHYoZg",
        "colab_type": "code",
        "colab": {},
        "outputId": "5f205324-7185-49e6-91b5-a6a474a6d770"
      },
      "source": [
        "np.shape(data)"
      ],
      "execution_count": 0,
      "outputs": [
        {
          "output_type": "execute_result",
          "data": {
            "text/plain": [
              "(37771, 112, 150, 3)"
            ]
          },
          "metadata": {
            "tags": []
          },
          "execution_count": 204
        }
      ]
    },
    {
      "cell_type": "code",
      "metadata": {
        "id": "CyLriTczYoZp",
        "colab_type": "code",
        "colab": {}
      },
      "source": [
        ""
      ],
      "execution_count": 0,
      "outputs": []
    },
    {
      "cell_type": "code",
      "metadata": {
        "id": "gG3Oh85oYoZ0",
        "colab_type": "code",
        "colab": {}
      },
      "source": [
        "train_steps = 12"
      ],
      "execution_count": 0,
      "outputs": []
    },
    {
      "cell_type": "code",
      "metadata": {
        "scrolled": true,
        "id": "CrLlHhe8YoZ1",
        "colab_type": "code",
        "colab": {},
        "outputId": "7a791c0d-473c-404d-a35f-4d9bf2872c51"
      },
      "source": [
        "history = model.fit(x=data, y=testing['label'],\n",
        "                    validation_data=(xval, yval),\n",
        "                    batch_size=batch_size,\n",
        "                    epochs=train_steps, verbose=1,\n",
        "                    callbacks=[cb_early_stopper, cb_checkpointer])"
      ],
      "execution_count": 0,
      "outputs": [
        {
          "output_type": "stream",
          "text": [
            "Train on 37771 samples, validate on 883 samples\n",
            "Epoch 1/12\n",
            "37771/37771 [==============================] - 88s 2ms/sample - loss: 3.0669 - acc: 0.3611 - val_loss: 11.1656 - val_acc: 0.1721\n",
            "Epoch 2/12\n",
            "37771/37771 [==============================] - 76s 2ms/sample - loss: 1.8006 - acc: 0.4428 - val_loss: 12.0263 - val_acc: 0.1200\n",
            "Epoch 3/12\n",
            "37771/37771 [==============================] - 79s 2ms/sample - loss: 1.7622 - acc: 0.4426 - val_loss: 15.6603 - val_acc: 0.0159\n",
            "Epoch 4/12\n",
            "37771/37771 [==============================] - 75s 2ms/sample - loss: 1.7538 - acc: 0.4421 - val_loss: 14.2048 - val_acc: 0.0294\n"
          ],
          "name": "stdout"
        }
      ]
    },
    {
      "cell_type": "code",
      "metadata": {
        "id": "kc-OOLQVYoZ4",
        "colab_type": "code",
        "colab": {},
        "outputId": "5436f557-f319-4a61-dbbc-d3f7320aba06"
      },
      "source": [
        "# Plot training & validation accuracy values\n",
        "plt.plot(history.history['acc'])\n",
        "plt.plot(history.history['val_acc'])\n",
        "plt.title('Model accuracy')\n",
        "plt.ylabel('Accuracy')\n",
        "plt.xlabel('Epoch')\n",
        "plt.legend(['Train', 'Test'], loc='upper left')\n",
        "plt.show()\n",
        "\n",
        "# Plot training & validation loss values\n",
        "plt.plot(history.history['loss'])\n",
        "plt.plot(history.history['val_loss'])\n",
        "plt.title('Model loss')\n",
        "plt.ylabel('Loss')\n",
        "plt.xlabel('Epoch')\n",
        "plt.legend(['Train', 'Test'], loc='upper left')\n",
        "plt.show()"
      ],
      "execution_count": 0,
      "outputs": [
        {
          "output_type": "display_data",
          "data": {
            "image/png": "[encoded data removed]",
            "text/plain": [
              "<Figure size 432x288 with 1 Axes>"
            ]
          },
          "metadata": {
            "tags": []
          }
        },
        {
          "output_type": "display_data",
          "data": {
            "image/png": "[encoded data removed]",
            "text/plain": [
              "<Figure size 432x288 with 1 Axes>"
            ]
          },
          "metadata": {
            "tags": []
          }
        }
      ]
    },
    {
      "cell_type": "markdown",
      "metadata": {
        "id": "IYDIGZumYoZ6",
        "colab_type": "text"
      },
      "source": [
        "# Unfreezing base layers"
      ]
    },
    {
      "cell_type": "code",
      "metadata": {
        "id": "jM2ssJaqYoZ7",
        "colab_type": "code",
        "colab": {},
        "outputId": "173c9c81-9f36-4b67-c92b-f2f3c5b92360"
      },
      "source": [
        "for layer in base_model.layers:\n",
        "    layer.trainable = True\n",
        "    \n",
        "\n",
        "model.summary()"
      ],
      "execution_count": 0,
      "outputs": [
        {
          "output_type": "stream",
          "text": [
            "_________________________________________________________________\n",
            "Layer (type)                 Output Shape              Param #   \n",
            "=================================================================\n",
            "inception_v3 (Model)         (None, 2048)              21802784  \n",
            "_________________________________________________________________\n",
            "dropout_9 (Dropout)          (None, 2048)              0         \n",
            "_________________________________________________________________\n",
            "dense_9 (Dense)              (None, 128)               262272    \n",
            "_________________________________________________________________\n",
            "dropout_10 (Dropout)         (None, 128)               0         \n",
            "_________________________________________________________________\n",
            "dense_10 (Dense)             (None, 7)                 903       \n",
            "=================================================================\n",
            "WARNING:tensorflow:Discrepancy between trainable weights and collected trainable weights, did you set `model.trainable` without calling `model.compile` after ?\n",
            "Total params: 297,607\n",
            "Trainable params: 263,175\n",
            "Non-trainable params: 34,432\n",
            "_________________________________________________________________\n"
          ],
          "name": "stdout"
        }
      ]
    },
    {
      "cell_type": "code",
      "metadata": {
        "id": "YYxollTiYoZ8",
        "colab_type": "code",
        "colab": {}
      },
      "source": [
        "optimizer = Adam (lr=0.0005, beta_1=0.9, beta_2=0.999, epsilon=None, decay=5e-7, amsgrad=False)\n",
        "model.compile(optimizer = optimizer , loss = \"sparse_categorical_crossentropy\", metrics=[\"accuracy\"])"
      ],
      "execution_count": 0,
      "outputs": []
    },
    {
      "cell_type": "code",
      "metadata": {
        "id": "Jt8svdapYoaA",
        "colab_type": "code",
        "colab": {},
        "outputId": "036454e9-e1e1-4368-d1c9-a39497234135"
      },
      "source": [
        "history = model.fit(x=data, y=testing['label'],\n",
        "                    validation_data=(xval, yval),\n",
        "                    batch_size=batch_size,\n",
        "                    epochs=train_steps, verbose=1,\n",
        "                    callbacks=[cb_early_stopper, cb_checkpointer])"
      ],
      "execution_count": 0,
      "outputs": [
        {
          "output_type": "stream",
          "text": [
            "Train on 37771 samples, validate on 883 samples\n",
            "WARNING:tensorflow:From C:\\Users\\Shikhar\\Anaconda3\\lib\\site-packages\\tensorflow\\python\\ops\\math_ops.py:3066: to_int32 (from tensorflow.python.ops.math_ops) is deprecated and will be removed in a future version.\n",
            "Instructions for updating:\n",
            "Use tf.cast instead.\n",
            "Epoch 1/12\n",
            "37771/37771 [==============================] - 166s 4ms/sample - loss: 0.9283 - acc: 0.7242 - val_loss: 0.7566 - val_acc: 0.8222\n",
            "Epoch 2/12\n",
            "37771/37771 [==============================] - 153s 4ms/sample - loss: 0.6269 - acc: 0.8274 - val_loss: 0.5207 - val_acc: 0.8743\n",
            "Epoch 3/12\n",
            "37771/37771 [==============================] - 143s 4ms/sample - loss: 0.4959 - acc: 0.8736 - val_loss: 0.6202 - val_acc: 0.8482\n",
            "Epoch 4/12\n",
            "37771/37771 [==============================] - 144s 4ms/sample - loss: 0.4161 - acc: 0.9010 - val_loss: 0.5049 - val_acc: 0.8607\n",
            "Epoch 5/12\n",
            "37771/37771 [==============================] - 144s 4ms/sample - loss: 0.3614 - acc: 0.9200 - val_loss: 0.6969 - val_acc: 0.8381\n",
            "Epoch 6/12\n",
            "37771/37771 [==============================] - 142s 4ms/sample - loss: 0.3102 - acc: 0.9360 - val_loss: 0.6670 - val_acc: 0.8437\n",
            "Epoch 7/12\n",
            "37771/37771 [==============================] - 143s 4ms/sample - loss: 0.2726 - acc: 0.9467 - val_loss: 0.7837 - val_acc: 0.8403\n"
          ],
          "name": "stdout"
        }
      ]
    },
    {
      "cell_type": "code",
      "metadata": {
        "id": "D1qXN0mIYoaC",
        "colab_type": "code",
        "colab": {},
        "outputId": "e81badd9-ec7e-437d-c722-53c0462d3c36"
      },
      "source": [
        "# Plot training & validation accuracy values\n",
        "plt.plot(history.history['acc'])\n",
        "plt.plot(history.history['val_acc'])\n",
        "plt.title('Model accuracy')\n",
        "plt.ylabel('Accuracy')\n",
        "plt.xlabel('Epoch')\n",
        "plt.legend(['Train', 'Test'], loc='upper left')\n",
        "plt.show()\n",
        "\n",
        "# Plot training & validation loss values\n",
        "plt.plot(history.history['loss'])\n",
        "plt.plot(history.history['val_loss'])\n",
        "plt.title('Model loss')\n",
        "plt.ylabel('Loss')\n",
        "plt.xlabel('Epoch')\n",
        "plt.legend(['Train', 'Test'], loc='upper left')\n",
        "plt.show()"
      ],
      "execution_count": 0,
      "outputs": [
        {
          "output_type": "display_data",
          "data": {
            "image/png": "[encoded data removed]",
            "text/plain": [
              "<Figure size 432x288 with 1 Axes>"
            ]
          },
          "metadata": {
            "tags": []
          }
        },
        {
          "output_type": "display_data",
          "data": {
            "image/png": "[encoded data removed]",
            "text/plain": [
              "<Figure size 432x288 with 1 Axes>"
            ]
          },
          "metadata": {
            "tags": []
          }
        }
      ]
    },
    {
      "cell_type": "code",
      "metadata": {
        "id": "Rmbgk10EYoaF",
        "colab_type": "code",
        "colab": {},
        "outputId": "a8f4f3ae-d761-44b3-de2b-c98796a6a766"
      },
      "source": [
        "model.load_weights(\"working/best.hdf5\")\n",
        "test_loss, test_acc = model.evaluate(xtest, ytest, verbose=1)\n",
        "print(\"test_accuracy = %f  ;  test_loss = %f\" % (test_acc, test_loss))"
      ],
      "execution_count": 0,
      "outputs": [
        {
          "output_type": "stream",
          "text": [
            "1103/1103 [==============================] - 4s 4ms/sample - loss: 0.5163 - acc: 0.8758\n",
            "test_accuracy = 0.875793  ;  test_loss = 0.516305\n"
          ],
          "name": "stdout"
        }
      ]
    },
    {
      "cell_type": "code",
      "metadata": {
        "id": "eJEkwrOTYoaK",
        "colab_type": "code",
        "colab": {},
        "outputId": "e46b983e-1302-4779-ec65-ea4164f4ac80"
      },
      "source": [
        "from sklearn.metrics import confusion_matrix\n",
        "train_pred = model.predict(data)\n",
        "train_pred_classes = np.argmax(train_pred,axis = 1)\n",
        "test_pred = model.predict(xtest)\n",
        "# Convert predictions classes to one hot vectors \n",
        "test_pred_classes = np.argmax(test_pred,axis = 1) \n",
        "\n",
        "confusionmatrix = confusion_matrix(ytest, test_pred_classes)\n",
        "confusionmatrix"
      ],
      "execution_count": 0,
      "outputs": [
        {
          "output_type": "execute_result",
          "data": {
            "text/plain": [
              "array([[ 29,  48,   1,   3,   0,   3,   4],\n",
              "       [  3, 889,   0,   0,   1,   1,   2],\n",
              "       [  0,   2,   6,   0,   0,   0,   0],\n",
              "       [  6,  21,   1,  10,   0,   2,   0],\n",
              "       [  0,   2,   0,   0,  11,   0,   0],\n",
              "       [  2,  13,   0,   2,   1,  14,   0],\n",
              "       [  6,   5,   0,   3,   0,   5,   7]], dtype=int64)"
            ]
          },
          "metadata": {
            "tags": []
          },
          "execution_count": 218
        }
      ]
    },
    {
      "cell_type": "code",
      "metadata": {
        "id": "YE92AHTbYoaO",
        "colab_type": "code",
        "colab": {},
        "outputId": "474d601a-18ad-4466-d00a-cbf7b6acad8b"
      },
      "source": [
        "from sklearn.metrics import classification_report\n",
        "labels = dict_label.keys()\n",
        "# Generate a classification report\n",
        "#trainreport = classification_report(trainlabels, train_pred_classes, target_names=list(labels))\n",
        "testreport = classification_report(ytest, test_pred_classes, target_names=list(labels))\n",
        "#print(trainreport)\n",
        "print(testreport)"
      ],
      "execution_count": 0,
      "outputs": [
        {
          "output_type": "stream",
          "text": [
            "              precision    recall  f1-score   support\n",
            "\n",
            "         bkl       0.63      0.33      0.43        88\n",
            "          nv       0.91      0.99      0.95       896\n",
            "          df       0.75      0.75      0.75         8\n",
            "         mel       0.56      0.25      0.34        40\n",
            "        vasc       0.85      0.85      0.85        13\n",
            "         bcc       0.56      0.44      0.49        32\n",
            "       akiec       0.54      0.27      0.36        26\n",
            "\n",
            "    accuracy                           0.88      1103\n",
            "   macro avg       0.68      0.55      0.60      1103\n",
            "weighted avg       0.85      0.88      0.86      1103\n",
            "\n"
          ],
          "name": "stdout"
        }
      ]
    },
    {
      "cell_type": "code",
      "metadata": {
        "id": "bkEUMJ7SYoaT",
        "colab_type": "code",
        "colab": {}
      },
      "source": [
        ""
      ],
      "execution_count": 0,
      "outputs": []
    }
  ]
}